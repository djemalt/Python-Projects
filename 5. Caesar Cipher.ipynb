{
 "cells": [
  {
   "cell_type": "markdown",
   "id": "6fddb130",
   "metadata": {},
   "source": [
    "# Caesar Cipher"
   ]
  },
  {
   "cell_type": "markdown",
   "id": "ea26da26",
   "metadata": {},
   "source": [
    "### Encrypt Function"
   ]
  },
  {
   "cell_type": "code",
   "execution_count": null,
   "id": "316314ea",
   "metadata": {},
   "outputs": [],
   "source": [
    "def encrypt(plain_text,shift_amount):\n",
    "    cipher_text = \"\"\n",
    "    for letter in plain_text:\n",
    "        if letter in letters:\n",
    "            if (letters.index(letter) + shift_amount) > 25:\n",
    "                x = (letters.index(letter) + shift_amount)-26\n",
    "                new_letter = letters[x]\n",
    "            else:            \n",
    "                position = letters.index(letter)\n",
    "                new_position = position + shift_amount\n",
    "                new_letter = letters[new_position]\n",
    "            cipher_text += new_letter    \n",
    "        else:\n",
    "            cipher_text += letter\n",
    "    print(f\"The encoded text is {cipher_text}\\n\")"
   ]
  },
  {
   "cell_type": "markdown",
   "id": "91f11f61",
   "metadata": {},
   "source": [
    "### Decrypt Function"
   ]
  },
  {
   "cell_type": "code",
   "execution_count": null,
   "id": "62bc4b82",
   "metadata": {},
   "outputs": [],
   "source": [
    "def decrypt(plain_text,shift_amount):\n",
    "    cipher_text = \"\"\n",
    "    for letter in plain_text:\n",
    "        if letter in letters:  \n",
    "            position = letters.index(letter)\n",
    "            new_position = position - shift_amount\n",
    "            new_letter = letters[new_position]\n",
    "            cipher_text += new_letter    \n",
    "        else:\n",
    "            cipher_text += letter\n",
    "    print(f\"The decoded text is {cipher_text}\\n\")"
   ]
  },
  {
   "cell_type": "markdown",
   "id": "dbad3b32",
   "metadata": {},
   "source": [
    "### Cipher Function"
   ]
  },
  {
   "cell_type": "code",
   "execution_count": null,
   "id": "a1089dcb",
   "metadata": {},
   "outputs": [],
   "source": [
    "def cipher():\n",
    "    global letters\n",
    "    letters = ['a', 'b', 'c', 'd', 'e', 'f', 'g', 'h', 'i',\n",
    "           'j', 'k', 'l', 'm', 'n', 'o', 'p', 'q', 'r',\n",
    "           's', 't', 'u', 'v', 'w', 'x', 'y', 'z']\n",
    "    text = input(\"Type your message:\\n\").lower()\n",
    "    shift = int(input(\"How many letters do you want to shift?:\\n\"))\n",
    "    cipher = True\n",
    "    while cipher:\n",
    "        direction = input(\"Type 'encode' to encrypt or type 'decode' to decrypt:\\n\")\n",
    "        if direction == \"encode\".lower():\n",
    "            encrypt(plain_text=text,shift_amount=shift)\n",
    "            cipher = False\n",
    "        elif direction == \"decode\".lower():\n",
    "            decrypt(plain_text=text,shift_amount=shift)\n",
    "            cipher = False\n",
    "        else:\n",
    "            print(\"Incorrect Function!\\n\")\n",
    "    "
   ]
  },
  {
   "cell_type": "markdown",
   "id": "29a3666c",
   "metadata": {},
   "source": [
    "## Run!"
   ]
  },
  {
   "cell_type": "code",
   "execution_count": null,
   "id": "1ce0ad5a",
   "metadata": {},
   "outputs": [],
   "source": [
    "cipher()"
   ]
  },
  {
   "cell_type": "code",
   "execution_count": null,
   "id": "9f5e4e06",
   "metadata": {},
   "outputs": [],
   "source": []
  },
  {
   "cell_type": "markdown",
   "id": "608eb0e4",
   "metadata": {},
   "source": [
    "# Secondary way but only decoder"
   ]
  },
  {
   "cell_type": "markdown",
   "id": "24a7568d",
   "metadata": {},
   "source": [
    "### From my class exercise"
   ]
  },
  {
   "cell_type": "code",
   "execution_count": null,
   "id": "3728a4bd",
   "metadata": {},
   "outputs": [],
   "source": [
    "message = 'Pnrfne pvcure? V zhpu cersre Pnrfne fnynq!'\n",
    "LETTERS = 'AaBbCcDdEeFfGgHhIiJjKkLlMmNnOoPpQqRrSsTtUuVvWwXxUyZz'\n",
    "Cypher_key1 = 13\n",
    "Cypher_key = Cypher_key1 * 2\n",
    "for key in range((Cypher_key + 1)):\n",
    "    translated = ''\n",
    "    for symbol in message:\n",
    "        if symbol in LETTERS:\n",
    "            num = LETTERS.find(symbol)\n",
    "            num = num - Cypher_key\n",
    "            translated = translated + LETTERS[num]\n",
    "        else:\n",
    "            translated = translated + symbol\n",
    "print(translated)\n"
   ]
  },
  {
   "cell_type": "code",
   "execution_count": null,
   "id": "3f85f53e",
   "metadata": {},
   "outputs": [],
   "source": []
  }
 ],
 "metadata": {
  "kernelspec": {
   "display_name": "Python 3 (ipykernel)",
   "language": "python",
   "name": "python3"
  },
  "language_info": {
   "codemirror_mode": {
    "name": "ipython",
    "version": 3
   },
   "file_extension": ".py",
   "mimetype": "text/x-python",
   "name": "python",
   "nbconvert_exporter": "python",
   "pygments_lexer": "ipython3",
   "version": "3.10.4"
  }
 },
 "nbformat": 4,
 "nbformat_minor": 5
}

{
 "cells": [
  {
   "cell_type": "markdown",
   "id": "be5b0959",
   "metadata": {},
   "source": [
    "# Caesar Cipher"
   ]
  },
  {
   "cell_type": "markdown",
   "id": "c1e771f3",
   "metadata": {},
   "source": [
    "### Encrypt Function"
   ]
  },
  {
   "cell_type": "code",
   "execution_count": null,
   "id": "5305b780",
   "metadata": {},
   "outputs": [],
   "source": [
    "def encrypt(plain_text,shift_amount):\n",
    "    cipher_text = \"\"\n",
    "    for letter in plain_text:\n",
    "        if letter in letters:\n",
    "            if (letters.index(letter) + shift_amount) > 25:\n",
    "                x = (letters.index(letter) + shift_amount)-26\n",
    "                new_letter = letters[x]\n",
    "            else:            \n",
    "                position = letters.index(letter)\n",
    "                new_position = position + shift_amount\n",
    "                new_letter = letters[new_position]\n",
    "            cipher_text += new_letter    \n",
    "        else:\n",
    "            cipher_text += letter\n",
    "    print(f\"The encoded text is {cipher_text}\\n\")"
   ]
  },
  {
   "cell_type": "markdown",
   "id": "0deb144b",
   "metadata": {},
   "source": [
    "### Decrypt Function"
   ]
  },
  {
   "cell_type": "code",
   "execution_count": null,
   "id": "bf8a0185",
   "metadata": {},
   "outputs": [],
   "source": [
    "def decrypt(plain_text,shift_amount):\n",
    "    cipher_text = \"\"\n",
    "    for letter in plain_text:\n",
    "        if letter in letters:  \n",
    "            position = letters.index(letter)\n",
    "            new_position = position - shift_amount\n",
    "            new_letter = letters[new_position]\n",
    "            cipher_text += new_letter    \n",
    "        else:\n",
    "            cipher_text += letter\n",
    "    print(f\"The decoded text is {cipher_text}\\n\")"
   ]
  },
  {
   "cell_type": "markdown",
   "id": "60648874",
   "metadata": {},
   "source": [
    "### Cipher Function"
   ]
  },
  {
   "cell_type": "code",
   "execution_count": null,
   "id": "6a349d8a",
   "metadata": {},
   "outputs": [],
   "source": [
    "def cipher():\n",
    "    global letters\n",
    "    letters = ['a', 'b', 'c', 'd', 'e', 'f', 'g', 'h', 'i',\n",
    "           'j', 'k', 'l', 'm', 'n', 'o', 'p', 'q', 'r',\n",
    "           's', 't', 'u', 'v', 'w', 'x', 'y', 'z']\n",
    "    text = input(\"Type your message:\\n\").lower()\n",
    "    shift = int(input(\"How many letters do you want to shift?:\\n\"))\n",
    "    cipher = True\n",
    "    while cipher:\n",
    "        direction = input(\"Type 'encode' to encrypt or type 'decode' to decrypt:\\n\")\n",
    "        if direction == \"encode\".lower():\n",
    "            encrypt(plain_text=text,shift_amount=shift)\n",
    "            cipher = False\n",
    "        elif direction == \"decode\".lower():\n",
    "            decrypt(plain_text=text,shift_amount=shift)\n",
    "            cipher = False\n",
    "        else:\n",
    "            print(\"Incorrect Function!\\n\")\n",
    "    "
   ]
  },
  {
   "cell_type": "markdown",
   "id": "f0f63735",
   "metadata": {},
   "source": [
    "## Run!"
   ]
  },
  {
   "cell_type": "code",
   "execution_count": null,
   "id": "0c9a6ec8",
   "metadata": {},
   "outputs": [],
   "source": [
    "cipher()"
   ]
  },
  {
   "cell_type": "code",
   "execution_count": null,
   "id": "c17445b2",
   "metadata": {},
   "outputs": [],
   "source": []
  }
 ],
 "metadata": {
  "kernelspec": {
   "display_name": "Python 3 (ipykernel)",
   "language": "python",
   "name": "python3"
  },
  "language_info": {
   "codemirror_mode": {
    "name": "ipython",
    "version": 3
   },
   "file_extension": ".py",
   "mimetype": "text/x-python",
   "name": "python",
   "nbconvert_exporter": "python",
   "pygments_lexer": "ipython3",
   "version": "3.10.4"
  }
 },
 "nbformat": 4,
 "nbformat_minor": 5
}

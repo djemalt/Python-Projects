{
 "cells": [
  {
   "cell_type": "markdown",
   "id": "ae2885fc",
   "metadata": {},
   "source": [
    "# Hangman Game "
   ]
  },
  {
   "cell_type": "code",
   "execution_count": 12,
   "id": "378c2914",
   "metadata": {},
   "outputs": [],
   "source": [
    "import random\n",
    "from IPython.display import clear_output"
   ]
  },
  {
   "cell_type": "markdown",
   "id": "f4e0ec97",
   "metadata": {},
   "source": [
    "####  Display Function"
   ]
  },
  {
   "cell_type": "code",
   "execution_count": 13,
   "id": "063b64c3",
   "metadata": {},
   "outputs": [],
   "source": [
    "def display():\n",
    "    blanks= []\n",
    "    for letter in chosen_word:\n",
    "        blanks.append(\"_\")\n",
    "    return blanks"
   ]
  },
  {
   "cell_type": "markdown",
   "id": "d5a6e2db",
   "metadata": {},
   "source": [
    "####  Update Blank Function"
   ]
  },
  {
   "cell_type": "code",
   "execution_count": 14,
   "id": "83f2a539",
   "metadata": {},
   "outputs": [],
   "source": [
    "def update_blanks():\n",
    "        for position in range(len(chosen_word)):\n",
    "            letter = chosen_word[position]\n",
    "            if guess == letter:\n",
    "                blanks[position] = letter\n",
    "            else:\n",
    "                pass\n",
    "    "
   ]
  },
  {
   "cell_type": "markdown",
   "id": "c7e82a48",
   "metadata": {},
   "source": [
    "#### Visual Stages of the Hangman"
   ]
  },
  {
   "cell_type": "code",
   "execution_count": 15,
   "id": "e8d8f96c",
   "metadata": {},
   "outputs": [],
   "source": [
    "stages = ['''\n",
    "  +---+\n",
    "  |   |\n",
    "  O   |\n",
    " /|\\  |\n",
    " / \\  |\n",
    "      |\n",
    "=========\n",
    "''', '''\n",
    "  +---+\n",
    "  |   |\n",
    "  O   |\n",
    " /|\\  |\n",
    " /    |\n",
    "      |\n",
    "=========\n",
    "''', '''\n",
    "  +---+\n",
    "  |   |\n",
    "  O   |\n",
    " /|\\  |\n",
    "      |\n",
    "      |\n",
    "=========\n",
    "''', '''\n",
    "  +---+\n",
    "  |   |\n",
    "  O   |\n",
    " /|   |\n",
    "      |\n",
    "      |\n",
    "=========''', '''\n",
    "  +---+\n",
    "  |   |\n",
    "  O   |\n",
    "  |   |\n",
    "      |\n",
    "      |\n",
    "=========\n",
    "''', '''\n",
    "  +---+\n",
    "  |   |\n",
    "  O   |\n",
    "      |\n",
    "      |\n",
    "      |\n",
    "=========\n",
    "''', '''\n",
    "  +---+\n",
    "  |   |\n",
    "      |\n",
    "      |\n",
    "      |\n",
    "      |\n",
    "=========\n",
    "''']"
   ]
  },
  {
   "cell_type": "markdown",
   "id": "745a716b",
   "metadata": {},
   "source": [
    "## Hangman Game Start!  \n",
    "####  Feel free to edit the word list with whatever word you want!"
   ]
  },
  {
   "cell_type": "code",
   "execution_count": 17,
   "id": "fc3d9e12",
   "metadata": {},
   "outputs": [],
   "source": [
    "word_list = [\"ardvark\",\"baboon\" , 'camel','pneumonia',\"hello\",\"thank\", \"you\", \"for\", \"playing\"]\n",
    "game_on = True\n",
    "\n",
    "# Hanhman Game\n",
    "while game_on:\n",
    "    #setup\n",
    "    play = True\n",
    "    life = 6\n",
    "    replay = True\n",
    "    wrong_letter = set()\n",
    "    # choose word from word list\n",
    "    chosen_word = random.choice(word_list)\n",
    "    # generate blanks\n",
    "    blanks = display()\n",
    "    \n",
    "    while play:\n",
    "        #Visuals of hangman + progress in game\n",
    "        print(stages[life])\n",
    "        print(f\"{blanks}\\n\")\n",
    "        print(f\"List of Wrong letters: \\n{list(wrong_letter)}\\n\")\n",
    "        print(\"\\n\\n\")\n",
    "        \n",
    "        # ask player for guess\n",
    "        guess = input(\"Guess a letter: \").lower()\n",
    "        #if wrong guess, lose a life and add it to the set\n",
    "        if guess not in chosen_word:\n",
    "            print(\"lose life\\n\")\n",
    "            life -= 1\n",
    "            wrong_letter.add(guess)\n",
    "            \n",
    "        #Updates the blanks Function\n",
    "        update_blanks()\n",
    "        \n",
    "        #cleans the output\n",
    "        clear_output()\n",
    "        \n",
    "        #win Check - Exit while if won\n",
    "        if \"\".join(blanks) == chosen_word:\n",
    "            print(blanks)\n",
    "            print(\"YOU WON!\")\n",
    "            print(stages[life])\n",
    "            play = False\n",
    "            \n",
    "        #lose Check - Exit while if life = 0    \n",
    "        if life == 0:\n",
    "            print(\"YOU LOSE!\")\n",
    "            print(f\"The Word was: {chosen_word}\\n\")\n",
    "            print(blanks)\n",
    "            print(stages[life])\n",
    "            play = False\n",
    "    \n",
    "    \n",
    "    #ask if they want to replay\n",
    "    while replay:\n",
    "        t = input(\"Play Again? y / n:  \").lower()\n",
    "        if t == \"y\":\n",
    "            play = True\n",
    "            break\n",
    "        elif t == \"n\":\n",
    "            game_on = False\n",
    "            break\n",
    "        else:\n",
    "            print(\"Please say y or n\")\n",
    "        \n",
    "    clear_output()\n",
    "\n"
   ]
  },
  {
   "cell_type": "code",
   "execution_count": null,
   "id": "fde6eed7",
   "metadata": {},
   "outputs": [],
   "source": []
  }
 ],
 "metadata": {
  "kernelspec": {
   "display_name": "Python 3 (ipykernel)",
   "language": "python",
   "name": "python3"
  },
  "language_info": {
   "codemirror_mode": {
    "name": "ipython",
    "version": 3
   },
   "file_extension": ".py",
   "mimetype": "text/x-python",
   "name": "python",
   "nbconvert_exporter": "python",
   "pygments_lexer": "ipython3",
   "version": "3.10.4"
  }
 },
 "nbformat": 4,
 "nbformat_minor": 5
}

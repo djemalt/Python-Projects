{
 "cells": [
  {
   "cell_type": "markdown",
   "id": "541217d4",
   "metadata": {},
   "source": [
    "# Password Generator"
   ]
  },
  {
   "cell_type": "code",
   "execution_count": null,
   "id": "03ae9a8f",
   "metadata": {},
   "outputs": [],
   "source": [
    "import random\n",
    "import string"
   ]
  },
  {
   "cell_type": "code",
   "execution_count": 9,
   "id": "1732d879",
   "metadata": {
    "scrolled": true
   },
   "outputs": [
    {
     "name": "stdout",
     "output_type": "stream",
     "text": [
      "Welcome to Password Generator!\n",
      "How many letters would you like in your password? \n",
      "3\n",
      "How many Symbols would you like in your password? \n",
      "4\n",
      "How many numbers would you like in your password? \n",
      "4\n",
      "\n",
      "\n",
      "The password Generated is:\t9v'5=!5^1IK\n"
     ]
    }
   ],
   "source": [
    "print(\"Welcome to Password Generator!\")\n",
    "n_let = int(input(\"How many letters would you like in your password? \\n\"))\n",
    "n_symbol = int(input(\"How many Symbols would you like in your password? \\n\"))\n",
    "n_numb = int(input(\"How many numbers would you like in your password? \\n\"))\n",
    "password = \"\"\n",
    "for i in range(1,n_let +1):\n",
    "    password += random.choice(string.ascii_letters)\n",
    "for i in range(1,n_symbol +1):\n",
    "    password += random.choice(string.punctuation)\n",
    "for i in range(1,n_numb +1):\n",
    "    password += random.choice(string.digits)\n",
    "\n",
    "l = list(password)\n",
    "random.shuffle(l)\n",
    "pw = \"\".join(l)\n",
    "print(f\"\\n\\nThe password Generated is:\\t{pw}\")\n"
   ]
  },
  {
   "cell_type": "markdown",
   "id": "6ce88591",
   "metadata": {},
   "source": []
  },
  {
   "cell_type": "code",
   "execution_count": null,
   "id": "9fe40391",
   "metadata": {},
   "outputs": [],
   "source": []
  }
 ],
 "metadata": {
  "kernelspec": {
   "display_name": "Python 3 (ipykernel)",
   "language": "python",
   "name": "python3"
  },
  "language_info": {
   "codemirror_mode": {
    "name": "ipython",
    "version": 3
   },
   "file_extension": ".py",
   "mimetype": "text/x-python",
   "name": "python",
   "nbconvert_exporter": "python",
   "pygments_lexer": "ipython3",
   "version": "3.10.4"
  }
 },
 "nbformat": 4,
 "nbformat_minor": 5
}
